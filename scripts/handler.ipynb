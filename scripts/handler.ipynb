{
 "cells": [
  {
   "cell_type": "code",
   "execution_count": 1,
   "metadata": {},
   "outputs": [],
   "source": [
    "import pandas as pd\n",
    "import matplotlib as mp\n",
    "import os"
   ]
  },
  {
   "cell_type": "code",
   "execution_count": 7,
   "metadata": {},
   "outputs": [
    {
     "name": "stdout",
     "output_type": "stream",
     "text": [
      "('it50.conf.csv',     solved  clauses_solved  clauses_total      time\n",
      "0        0             402            430  1499.590\n",
      "1        0             403            430  1526.540\n",
      "2        0             406            430  1547.100\n",
      "3        0             403            430  1537.810\n",
      "4        0             401            430  1488.980\n",
      "..     ...             ...            ...       ...\n",
      "75       0             210            218   767.249\n",
      "76       0             210            218   777.404\n",
      "77       0             213            218   766.177\n",
      "78       0             210            218   767.198\n",
      "79       0             212            218   760.434\n",
      "\n",
      "[80 rows x 4 columns])\n"
     ]
    }
   ],
   "source": [
    "f = lambda x : int(x[2:].split('.')[0])\n",
    "loc='iterations'\n",
    "iterationsData = [(config, pd.read_csv(os.path.join(loc, config), header=None, names=['solved', 'clauses_solved', 'clauses_total', 'time']))\n",
    "                  for config in sorted(os.listdir(loc), key=f)]\n",
    "\n",
    "print(iterationsData[0])"
   ]
  },
  {
   "cell_type": "code",
   "execution_count": 3,
   "metadata": {},
   "outputs": [],
   "source": [
    "def calcError(data):\n",
    "\tfor config, df in data:\n",
    "\t\tdf['error'] = df.apply(lambda row: 1 - row['clauses_solved']/row['clauses_total'], axis=1)\n",
    "\t\tprint(config, df['error'].sum() / len(df.index) , df['time'].sum() / len(df.index))\n"
   ]
  },
  {
   "cell_type": "code",
   "execution_count": 8,
   "metadata": {},
   "outputs": [
    {
     "name": "stdout",
     "output_type": "stream",
     "text": [
      "it50.conf.csv 0.04450193075539779 1526.6308875\n",
      "it100.conf.csv 0.05452228604018128 333.4936875\n",
      "it200.conf.csv 0.0499879225212594 637.697225\n",
      "it750.conf.csv 0.04173440624875445 2286.333525\n",
      "it1000.conf.csv 0.041196452896367544 2997.5079499999997\n",
      "it2000.conf.csv 0.038315849661326506 5978.2978\n"
     ]
    }
   ],
   "source": [
    "calcError(iterationsData)"
   ]
  },
  {
   "cell_type": "code",
   "execution_count": 5,
   "metadata": {},
   "outputs": [
    {
     "name": "stdout",
     "output_type": "stream",
     "text": [
      "it50.conf.csv 0.053833072597340784 276.0354625\n",
      "it100.conf.csv 0.048925290492524316 681.2561\n",
      "it200.conf.csv 0.04450193075539779 1540.8811375\n",
      "it500.conf.csv 0.03887710952904574 4355.7837125\n",
      "it1000.conf.csv 0.03577354917857904 8936.751937500001\n"
     ]
    }
   ],
   "source": [
    "f = lambda x : int(x[2:].split('.')[0])\n",
    "loc='population'\n",
    "populationData = [(config, pd.read_csv(os.path.join(loc, config), header=None, names=['solved', 'clauses_solved', 'clauses_total', 'time']))\n",
    "                  for config in sorted(os.listdir(loc), key=f)]\n",
    "calcError(populationData)\n"
   ]
  },
  {
   "cell_type": "code",
   "execution_count": 6,
   "metadata": {},
   "outputs": [
    {
     "name": "stdout",
     "output_type": "stream",
     "text": [
      "it25.conf.csv 0.04750294683447552 1525.1547125000002\n",
      "it50.conf.csv 0.045661031682207275 1629.0825375\n",
      "it70.conf.csv 0.04349406061188651 1578.035725\n",
      "it80.conf.csv 0.04450193075539779 1548.13475\n",
      "it90.conf.csv 0.043814790793801885 1489.133325\n"
     ]
    }
   ],
   "source": [
    "f = lambda x : int(x[2:].split('.conf')[0])\n",
    "loc='elitism'\n",
    "elitismData = [(config, pd.read_csv(os.path.join(loc, config), header=None, names=['solved', 'clauses_solved', 'clauses_total', 'time']))\n",
    "                  for config in sorted(os.listdir(loc), key=f)]\n",
    "calcError(elitismData)\n"
   ]
  }
 ],
 "metadata": {
  "kernelspec": {
   "display_name": "Python 3",
   "language": "python",
   "name": "python3"
  },
  "language_info": {
   "codemirror_mode": {
    "name": "ipython",
    "version": 3
   },
   "file_extension": ".py",
   "mimetype": "text/x-python",
   "name": "python",
   "nbconvert_exporter": "python",
   "pygments_lexer": "ipython3",
   "version": "3.8.10"
  },
  "orig_nbformat": 4,
  "vscode": {
   "interpreter": {
    "hash": "916dbcbb3f70747c44a77c7bcd40155683ae19c65e1c03b4aa3499c5328201f1"
   }
  }
 },
 "nbformat": 4,
 "nbformat_minor": 2
}
