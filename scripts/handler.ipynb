{
 "cells": [
  {
   "cell_type": "code",
   "execution_count": 2,
   "metadata": {},
   "outputs": [],
   "source": [
    "import pandas as pd\n",
    "import matplotlib as mp\n",
    "import os"
   ]
  },
  {
   "cell_type": "code",
   "execution_count": 3,
   "metadata": {},
   "outputs": [
    {
     "name": "stdout",
     "output_type": "stream",
     "text": [
      "('it50.conf.csv',     solved  clauses_solved  clauses_total     time\n",
      "0        0             395            430  188.181\n",
      "1        0             396            430  190.488\n",
      "2        0             395            430  187.880\n",
      "3        0             394            430  187.858\n",
      "4        0             397            430  186.716\n",
      "..     ...             ...            ...      ...\n",
      "75       0             207            218   95.609\n",
      "76       0             208            218  101.494\n",
      "77       0             205            218  102.617\n",
      "78       0             206            218   98.261\n",
      "79       0             208            218   89.773\n",
      "\n",
      "[80 rows x 4 columns])\n"
     ]
    }
   ],
   "source": [
    "f = lambda x : int(x[2:].split('.')[0])\n",
    "loc='iterations'\n",
    "iterationsData = [(config, pd.read_csv(os.path.join(loc, config), header=None, names=['solved', 'clauses_solved', 'clauses_total', 'time']))\n",
    "                  for config in sorted(os.listdir(loc), key=f)]\n",
    "\n",
    "print(iterationsData[0])"
   ]
  },
  {
   "cell_type": "code",
   "execution_count": 4,
   "metadata": {},
   "outputs": [],
   "source": [
    "def calcError(data):\n",
    "\tfor config, df in data:\n",
    "\t\tdf['error'] = df.apply(lambda row: 1 - row['clauses_solved']/row['clauses_total'], axis=1)\n",
    "\t\tprint(config, df['error'].mean() , df['time'].mean())\n"
   ]
  },
  {
   "cell_type": "code",
   "execution_count": 5,
   "metadata": {},
   "outputs": [
    {
     "name": "stdout",
     "output_type": "stream",
     "text": [
      "it50.conf.csv 0.059250876870089585 186.193075\n",
      "it100.conf.csv 0.05452228604018128 333.4936875\n",
      "it200.conf.csv 0.0499879225212594 637.697225\n",
      "it750.conf.csv 0.04173440624875445 2286.333525\n",
      "it1000.conf.csv 0.041196452896367544 2997.5079499999997\n",
      "it2000.conf.csv 0.038315849661326506 5978.2978\n"
     ]
    }
   ],
   "source": [
    "calcError(iterationsData)"
   ]
  },
  {
   "cell_type": "code",
   "execution_count": 6,
   "metadata": {},
   "outputs": [
    {
     "name": "stdout",
     "output_type": "stream",
     "text": [
      "it50.conf.csv 0.053833072597340784 276.0354625\n",
      "it100.conf.csv 0.048925290492524316 681.2561\n",
      "it200.conf.csv 0.04450193075539779 1540.8811375\n",
      "it500.conf.csv 0.03887710952904574 4355.7837125\n",
      "it1000.conf.csv 0.03577354917857904 8936.751937500001\n"
     ]
    }
   ],
   "source": [
    "f = lambda x : int(x[2:].split('.')[0])\n",
    "loc='population'\n",
    "populationData = [(config, pd.read_csv(os.path.join(loc, config), header=None, names=['solved', 'clauses_solved', 'clauses_total', 'time']))\n",
    "                  for config in sorted(os.listdir(loc), key=f)]\n",
    "calcError(populationData)\n"
   ]
  },
  {
   "cell_type": "code",
   "execution_count": 7,
   "metadata": {},
   "outputs": [
    {
     "name": "stdout",
     "output_type": "stream",
     "text": [
      "it25.conf.csv 0.04750294683447552 1525.1547125000002\n",
      "it50.conf.csv 0.045661031682207275 1629.0825375\n",
      "it70.conf.csv 0.04349406061188651 1578.035725\n",
      "it80.conf.csv 0.04450193075539779 1548.13475\n",
      "it90.conf.csv 0.043814790793801885 1489.133325\n"
     ]
    }
   ],
   "source": [
    "f = lambda x : int(x[2:].split('.conf')[0])\n",
    "loc='elitism'\n",
    "elitismData = [(config, pd.read_csv(os.path.join(loc, config), header=None, names=['solved', 'clauses_solved', 'clauses_total', 'time']))\n",
    "                  for config in sorted(os.listdir(loc), key=f)]\n",
    "calcError(elitismData)\n"
   ]
  },
  {
   "cell_type": "code",
   "execution_count": 8,
   "metadata": {},
   "outputs": [
    {
     "name": "stdout",
     "output_type": "stream",
     "text": [
      "it1.conf.csv 0.037624575925461354 6803.044187499999\n",
      "it3.conf.csv 0.038060622437089256 7299.2703624999995\n",
      "it5.conf.csv 0.03972013278485968 7469.71615\n",
      "it10.conf.csv 0.04159222844575948 7778.316612499999\n",
      "it20.conf.csv 0.04369625946914189 8041.854724999999\n"
     ]
    }
   ],
   "source": [
    "f = lambda x : int(x[2:].split('.conf')[0])\n",
    "loc='chromosomeChangeRate'\n",
    "mutationRateData = [(config, pd.read_csv(os.path.join(loc, config), header=None, names=['solved', 'clauses_solved', 'clauses_total', 'time']))\n",
    "                  for config in sorted(os.listdir(loc), key=f)]\n",
    "calcError(mutationRateData)\n"
   ]
  },
  {
   "cell_type": "code",
   "execution_count": 9,
   "metadata": {},
   "outputs": [],
   "source": [
    "loc='best'\n",
    "testData = [(config, pd.read_csv(os.path.join(loc, config), header=None, names=['solved', 'clauses_solved', 'clauses_total', 'time']))\n",
    "                  for config in sorted(os.listdir(loc))]"
   ]
  },
  {
   "cell_type": "code",
   "execution_count": 10,
   "metadata": {},
   "outputs": [],
   "source": [
    "testError = [ (config,\n",
    "\t\t\t\tdf.apply(lambda row: 1 - row['clauses_solved']/row['clauses_total'], axis=1).mean(),\n",
    "\t\t\t\tdf['time'].mean(),\n",
    "\t\t\t\t) for config, df in testData]"
   ]
  },
  {
   "cell_type": "code",
   "execution_count": 11,
   "metadata": {},
   "outputs": [
    {
     "name": "stdout",
     "output_type": "stream",
     "text": [
      "[('CBS_k3_n100_m423_b30.csv', 0.046926713947990514, 6906.365), ('hanoi.csv', 0.14519881960821185, 120649.4), ('ii.csv', 0.41948566044324664, 69722.57000000002), ('train.csv', 0.037624575925461354, 6717.747687499999)]\n"
     ]
    }
   ],
   "source": [
    "print(testError)"
   ]
  },
  {
   "cell_type": "code",
   "execution_count": 22,
   "metadata": {},
   "outputs": [
    {
     "name": "stdout",
     "output_type": "stream",
     "text": [
      "430\n",
      "6968.065\n",
      "0.05058139534883721\n",
      "\n",
      "91\n",
      "786.43725\n",
      "0.001098901098900984\n",
      "\n",
      "860\n",
      "15594.925\n",
      "0.07244186046511625\n",
      "\n",
      "218\n",
      "3521.5635\n",
      "0.026376146788990806\n",
      "\n"
     ]
    }
   ],
   "source": [
    "for config, df in testData:\n",
    "\tif config != 'train.csv' :\n",
    "\t\tcontinue\n",
    "\tfor c in df['clauses_total'].unique():\n",
    "\t\tprint(c)\n",
    "\t\tprint(df[df['clauses_total'] == c]['time'].mean())\n",
    "\t\tprint(1 - (df[df['clauses_total'] == c]['clauses_solved'].mean() /c))\n",
    "\t\tprint()"
   ]
  },
  {
   "cell_type": "code",
   "execution_count": 16,
   "metadata": {},
   "outputs": [
    {
     "name": "stdout",
     "output_type": "stream",
     "text": [
      "    solved  clauses_solved  clauses_total     time\n",
      "0        0             412            430  6742.86\n",
      "1        0             407            430  6881.84\n",
      "2        0             409            430  7041.88\n",
      "3        0             408            430  6908.86\n",
      "4        0             407            430  6973.35\n",
      "..     ...             ...            ...      ...\n",
      "75       0             211            218  3558.56\n",
      "76       0             213            218  3596.78\n",
      "77       0             212            218  3506.12\n",
      "78       0             214            218  3531.85\n",
      "79       0             214            218  3501.35\n",
      "\n",
      "[80 rows x 4 columns]\n"
     ]
    }
   ],
   "source": [
    "print(df)"
   ]
  }
 ],
 "metadata": {
  "kernelspec": {
   "display_name": "Python 3",
   "language": "python",
   "name": "python3"
  },
  "language_info": {
   "codemirror_mode": {
    "name": "ipython",
    "version": 3
   },
   "file_extension": ".py",
   "mimetype": "text/x-python",
   "name": "python",
   "nbconvert_exporter": "python",
   "pygments_lexer": "ipython3",
   "version": "3.8.10"
  },
  "orig_nbformat": 4,
  "vscode": {
   "interpreter": {
    "hash": "916dbcbb3f70747c44a77c7bcd40155683ae19c65e1c03b4aa3499c5328201f1"
   }
  }
 },
 "nbformat": 4,
 "nbformat_minor": 2
}
